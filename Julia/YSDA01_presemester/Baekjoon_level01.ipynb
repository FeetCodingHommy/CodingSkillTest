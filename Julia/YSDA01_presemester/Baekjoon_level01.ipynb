{
 "cells": [
  {
   "cell_type": "markdown",
   "metadata": {},
   "source": [
    "# 백준 1단계 입출력과 사칙연산"
   ]
  },
  {
   "cell_type": "markdown",
   "metadata": {},
   "source": [
    "## 2557번 Hello World\n",
    "- https://www.acmicpc.net/problem/2557\n",
    "- Hello World!를 화면에 출력하는 문제 (예제 출력과 똑같이 출력해야 합니다.)"
   ]
  },
  {
   "cell_type": "code",
   "execution_count": 1,
   "metadata": {},
   "outputs": [
    {
     "name": "stdout",
     "output_type": "stream",
     "text": [
      "Hello World!\n"
     ]
    }
   ],
   "source": [
    "# 기본적으로 println이 쓰인다. 내용을 출력한 뒤 줄을 바꾼다.\n",
    "# http://www.jlhub.com/julia/manual/en/function/println\n",
    "println(\"Hello World!\")"
   ]
  },
  {
   "cell_type": "markdown",
   "metadata": {},
   "source": [
    "## 10718번 We love kriii\n",
    "- https://www.acmicpc.net/problem/10718\n",
    "- 주어진 예제처럼 출력하는 문제 2"
   ]
  },
  {
   "cell_type": "code",
   "execution_count": 2,
   "metadata": {},
   "outputs": [
    {
     "name": "stdout",
     "output_type": "stream",
     "text": [
      "강한친구 대한육군\n",
      "강한친구 대한육군"
     ]
    }
   ],
   "source": [
    "# print도 가능하다.\n",
    "# 단, 줄을 바꾸지 않으며, 내용에 과한 포매팅과 Julia-specific details을 피하라 칸다.\n",
    "# http://www.jlhub.com/julia/manual/en/function/print\n",
    "print(\"강한친구 대한육군\\n\")\n",
    "print(\"강한친구 대한육군\")"
   ]
  },
  {
   "cell_type": "markdown",
   "metadata": {},
   "source": [
    "## 10171번 고양이\n",
    "- https://www.acmicpc.net/problem/10171\n",
    "- 주어진 예제처럼 출력하는 문제 3"
   ]
  },
  {
   "cell_type": "code",
   "execution_count": 3,
   "metadata": {},
   "outputs": [
    {
     "name": "stdout",
     "output_type": "stream",
     "text": [
      "\\    /\\\n",
      " )  ( ')\n",
      "(  /  )\n",
      " \\(__)|\n"
     ]
    }
   ],
   "source": [
    "# ' '안에 하나 이상의 문자를 입력하니 \"invalid character literal\"이라고 syntax 에러남\n",
    "cat_str = \"\\\\    /\\\\\\n )  ( ')\\n(  /  )\\n \\\\(__)|\"\n",
    "\n",
    "# 간단하게 변수명 앞에 $를 써서 포매팅이 가능하다. 이걸 interpolation라 부름.\n",
    "# https://docs.julialang.org/en/v1/manual/strings/#string-interpolation-1\n",
    "println(\"$cat_str\")"
   ]
  },
  {
   "cell_type": "code",
   "execution_count": 4,
   "metadata": {},
   "outputs": [
    {
     "data": {
      "text/plain": [
       "String"
      ]
     },
     "execution_count": 4,
     "metadata": {},
     "output_type": "execute_result"
    }
   ],
   "source": [
    "typeof(cat_str)"
   ]
  },
  {
   "cell_type": "code",
   "execution_count": 5,
   "metadata": {},
   "outputs": [
    {
     "name": "stdout",
     "output_type": "stream",
     "text": [
      "$cat_str\n"
     ]
    }
   ],
   "source": [
    "# \" \" 앞에 raw를 붙이면 interpolation을 허용하지 않는 raw string이 됨.\n",
    "# https://en.wikibooks.org/wiki/Introducing_Julia/Strings_and_characters#Strings\n",
    "println(raw\"$cat_str\")"
   ]
  },
  {
   "cell_type": "code",
   "execution_count": 6,
   "metadata": {},
   "outputs": [
    {
     "name": "stdout",
     "output_type": "stream",
     "text": [
      "Char\n",
      "Char\n"
     ]
    }
   ],
   "source": [
    "# 참고: Julia는 동적 타입 시스템이지만, 필요 시 정적으로 설정할 수 있어 장점으로 활용 가능.\n",
    "# https://docs.julialang.org/en/v1/manual/strings/\n",
    "\n",
    "# 변수::타입 사용 시: syntax: type declarations on global variables are not yet supported\n",
    "function non_global_f()\n",
    "    cat_abchar::AbstractChar = 'c'\n",
    "    cat_char::Char = '캣'\n",
    "    println(typeof(cat_abchar))\n",
    "    println(typeof(cat_char))\n",
    "end\n",
    "\n",
    "non_global_f()\n",
    "\n",
    "# AbstractChar는 일반 캐릭터, Char는 모든 유니코드 글자 캐릭터로 이해 했는데, 차이 모르겠음."
   ]
  },
  {
   "cell_type": "markdown",
   "metadata": {},
   "source": [
    "## 10172번 개\n",
    "- https://www.acmicpc.net/problem/10172\n",
    "- 주어진 예제처럼 출력하는 문제 4"
   ]
  },
  {
   "cell_type": "code",
   "execution_count": 7,
   "metadata": {},
   "outputs": [
    {
     "name": "stdout",
     "output_type": "stream",
     "text": [
      "|\\_/|\n",
      "|q p|   /}\n",
      "( 0 )\"\"\"\\\n",
      "|\"^\"`    |\n",
      "||_/=\\\\__|\n"
     ]
    }
   ],
   "source": [
    "dog_str1 = \"|\\\\_/|\\n\"\n",
    "dog_str2 = \"|q p|   /}\\n\"\n",
    "dog_str3 = \"( 0 )\\\"\\\"\\\"\\\\\\n\"\n",
    "dog_str4 = \"\"\"|\"^\"`    |\\n\"\"\"    # \"가 들어가면 \"\"\" \"\"\"로 처리\n",
    "dog_str5 = \"||_/=\\\\\\\\__|\"\n",
    "\n",
    "# 굳이 Julia가 string concatenation에 *를 쓰는 이유는,\n",
    "# 수학에서 +는 commutative한(?) 연산이라서 연산의 순서가 중요하지 않아 A + B == B + A가 성립하는데,\n",
    "# *는 주로 non-commutative한(?) 연산을 일컫어 왔기 때문에 A + B != B + A고,\n",
    "# 그래서 string concatenation에 적합하다고 카더라.\n",
    "# https://docs.julialang.org/en/v1/manual/strings/#man-concatenation-1\n",
    "println(dog_str1 * dog_str2 * dog_str3 * dog_str4 * dog_str5)"
   ]
  },
  {
   "cell_type": "code",
   "execution_count": 8,
   "metadata": {},
   "outputs": [
    {
     "name": "stdout",
     "output_type": "stream",
     "text": [
      "|\\_/|\n",
      "|q p|   /}\n",
      "( 0 )\"\"\"\\\n",
      "|\"^\"`    |\n",
      "||_/=\\\\__|\n"
     ]
    }
   ],
   "source": [
    "# 이렇게도 concatenation를 하는듯\n",
    "println(string(dog_str1, dog_str2, dog_str3, dog_str4, dog_str5))"
   ]
  },
  {
   "cell_type": "code",
   "execution_count": 9,
   "metadata": {},
   "outputs": [
    {
     "name": "stdout",
     "output_type": "stream",
     "text": [
      "XXX\n"
     ]
    }
   ],
   "source": [
    "# 참고: string을 굳이 n번 곱하고 싶으면\n",
    "println(\"X\" ^ 3)"
   ]
  },
  {
   "cell_type": "markdown",
   "metadata": {},
   "source": [
    "## 1000번 A+B\n",
    "- https://www.acmicpc.net/problem/1000\n",
    "- 두 수를 입력받고 합을 출력하는 문제"
   ]
  },
  {
   "cell_type": "code",
   "execution_count": 10,
   "metadata": {},
   "outputs": [
    {
     "name": "stdout",
     "output_type": "stream",
     "text": [
      "stdin> 5 3\n",
      "8\n"
     ]
    }
   ],
   "source": [
    "# split 함수 관련해서 볼께 굉장히 많음. 보셈.\n",
    "# https://en.wikibooks.org/wiki/Introducing_Julia/Strings_and_characters#Splitting_and_joining_strings\n",
    "nums = split(readline())    # println(typeof(nums)) >>> Array{SubString{String},1}\n",
    "\n",
    "# r\"[1-9]+ [1-9]+\" 등 2개 이상의 숫자를 가진 string을 한번에 number로 바꾸는 작업이 Python만큼 쉽지 않은 것 같다.\n",
    "# https://discourse.julialang.org/t/converting-strings-of-numbers-to-numbers/11164\n",
    "# r\"[1-9]+\" 형식의 단일 숫자 string(?)은 바꾸기 쉽다\n",
    "# https://self-learning-java-tutorial.blogspot.com/2016/03/julia-convert-string-to-integer.html\n",
    "A = parse(Int8, nums[1])\n",
    "B = parse(Int8, nums[2])\n",
    "\n",
    "# Julia의 인덱스는 (기본 설정 상으로는) R처럼 1에서 시작한다.\n",
    "# 그런데 커스트마이징(?????)이 가능한가보다.\n",
    "# https://docs.julialang.org/en/v1/devdocs/offset-arrays/\n",
    "\n",
    "println(A+B)"
   ]
  },
  {
   "cell_type": "markdown",
   "metadata": {},
   "source": [
    "## 1001번 A-B\n",
    "- https://www.acmicpc.net/problem/1001\n",
    "- 두 수를 입력받고 뺄셈을 한 결과를 출력하는 문제"
   ]
  },
  {
   "cell_type": "code",
   "execution_count": 11,
   "metadata": {},
   "outputs": [
    {
     "name": "stdout",
     "output_type": "stream",
     "text": [
      "stdin> 5 3\n",
      "2\n"
     ]
    }
   ],
   "source": [
    "nums = split(readline())\n",
    "A = parse(Int8, nums[1])\n",
    "B = parse(Int8, nums[2])\n",
    "# 사이즈가 정해진 signed integer value들로는 Int8, Int16, Int32, Int64, Int32가 있다.\n",
    "# 사이즈를 정해놓으면 연산 속도가 빨라지는 것 같다.\n",
    "# https://docs.julialang.org/en/v1/manual/integers-and-floating-point-numbers/#Integers-and-Floating-Point-Numbers-1\n",
    "\n",
    "println(A-B)"
   ]
  },
  {
   "cell_type": "markdown",
   "metadata": {},
   "source": [
    "## 10998번 A×B\n",
    "- https://www.acmicpc.net/problem/10998\n",
    "- 곱셈 문제"
   ]
  },
  {
   "cell_type": "code",
   "execution_count": 12,
   "metadata": {},
   "outputs": [
    {
     "name": "stdout",
     "output_type": "stream",
     "text": [
      "stdin> 95 53\n",
      "5035\n"
     ]
    }
   ],
   "source": [
    "nums = split(readline())\n",
    "A = parse(Int16, nums[1])\n",
    "B = parse(Int16, nums[2])\n",
    "# Int8은 생각보다 큰 숫자를 못 담는다.\n",
    "# 128부터 -127까지인데, 그러면 12 * 12 도 계산 못하는 수준이다.\n",
    "# A, B를 Int8 타입으로 parse하고 12 * 12를 하면 -112(144 - 127)가 나온다\n",
    "\n",
    "println(A*B)    # typeof(A), typeof(B)가 Int8일 때, println(typeof(A*B)) >>> Int8"
   ]
  },
  {
   "cell_type": "code",
   "execution_count": 13,
   "metadata": {},
   "outputs": [
    {
     "name": "stdout",
     "output_type": "stream",
     "text": [
      "128\n",
      "Int64\n",
      "Int64\n"
     ]
    }
   ],
   "source": [
    "C = \"127\"\n",
    "C = parse(Int8, C)\n",
    "C += 1\n",
    "println(C)    # >>> 128\n",
    "println(typeof(C))    # >>> Int64\n",
    "# 단, 이 연산에서 C가 Int64로 바뀌면서 올바른 연산값 128이 나오는 이유는,\n",
    "println(typeof(1))    # >>> Int64\n",
    "# 1의 타입이 Int64고, 메모리 할당량(?)이 큰 값을 따라서 연산값의 결과가 맞춰지기 때문인 것으로 추측된다."
   ]
  },
  {
   "cell_type": "markdown",
   "metadata": {},
   "source": [
    "## 1008번 A/B\n",
    "- https://www.acmicpc.net/problem/\n",
    "- 나눗셈 문제. 이 문제에는 \"스페셜 저지\" 표시가 붙어 있는데, 이것은 예제 출력과 꼭 똑같이 출력할 필요는 없고 조건에 맞는 답을 출력하면 된다는 뜻입니다."
   ]
  },
  {
   "cell_type": "code",
   "execution_count": 14,
   "metadata": {},
   "outputs": [
    {
     "name": "stdout",
     "output_type": "stream",
     "text": [
      "stdin> 9 5\n",
      "1.8\n",
      "1.8\n",
      "4\n",
      "4\n",
      "1\n"
     ]
    }
   ],
   "source": [
    "nums = split(readline())\n",
    "A = parse(Int8, nums[1])\n",
    "B = parse(Int8, nums[2])\n",
    "\n",
    "# Julia 나눗셈이 골때린다.\n",
    "# https://docs.julialang.org/en/v1/manual/mathematical-operations/\n",
    "println(A/B)    # 이건 소숫점까지 계산해주는 보통 나눗셈\n",
    "println(B\\A)    # 이건 나눗셈 결과의 역수(inverse divide)\n",
    "println(A%B)    # 이건 나눗셈 나머지(modulus) 계산이고,\n",
    "println(rem(A, B))    # (remainder의 rem을 딴 rem() 함수도 똑같은 결과를 반환한다)\n",
    "println(A÷B)    # 이게 Python의 //처럼 몫만 계산해주는 나눗셈 (생각보다 ÷를 쓰는게 불편하다)\n",
    "\n",
    "# ÷를 다 지원해주는 Julia는 ≠, ≤, ≥, ⊻(XOR) 등의 특수문자도 지원해주며,\n",
    "# (÷=, ⊻=도 가능하다)"
   ]
  },
  {
   "cell_type": "code",
   "execution_count": 15,
   "metadata": {},
   "outputs": [
    {
     "name": "stdout",
     "output_type": "stream",
     "text": [
      "24\n",
      "15\n"
     ]
    }
   ],
   "source": [
    "# ÷를 다 지원해주는 Julia는 ≠, ≤, ≥, ⊻(XOR) 등의 특수문자도 지원해주며,\n",
    "# (÷=, ⊻=도 가능하다)\n",
    "# 심지어 다른 특수문자들을 활용한 user-defined operator도 가능하다.\n",
    "# 아닌가 함수 정의인가? 여튼 된다.\n",
    "뒤에꺼더하고곱해(A, B) = (A + B) * B    # 아니 이게 된다고?\n",
    "⊗(A,B) = kron(A,B)\n",
    "\n",
    "X = 5\n",
    "Y = 3\n",
    "Xarr = [9, 5]\n",
    "Yarr = [5, 3]\n",
    "println(뒤에꺼더하고곱해(X, Y))\n",
    "println(X .⊗ Y)\n",
    "# dot operators: https://docs.julialang.org/en/v1/manual/mathematical-operations/#man-dot-operators-1"
   ]
  },
  {
   "cell_type": "markdown",
   "metadata": {},
   "source": [
    "## 10869번 사칙연산\n",
    "- https://www.acmicpc.net/problem/10869\n",
    "- 모든 연산 문제"
   ]
  },
  {
   "cell_type": "code",
   "execution_count": 16,
   "metadata": {},
   "outputs": [
    {
     "name": "stdout",
     "output_type": "stream",
     "text": [
      "stdin> 5 3\n",
      "8\n",
      "2\n",
      "15\n",
      "1\n",
      "2\n"
     ]
    }
   ],
   "source": [
    "nums = split(readline())\n",
    "A = parse(Int16, nums[1])\n",
    "B = parse(Int16, nums[2])\n",
    "\n",
    "println(A+B)\n",
    "println(A-B)\n",
    "println(A*B)\n",
    "println(A÷B)\n",
    "println(A%B)"
   ]
  },
  {
   "cell_type": "markdown",
   "metadata": {},
   "source": [
    "## 10430번 나머지\n",
    "- https://www.acmicpc.net/problem/10430\n",
    "- 네 개의 계산식을 계산하는 문제. 이 문제를 푼 다음에는 직접 입력을 만들어서 넣어 봅시다. 어떤 사실을 관찰할 수 있나요?"
   ]
  },
  {
   "cell_type": "code",
   "execution_count": 17,
   "metadata": {},
   "outputs": [
    {
     "name": "stdout",
     "output_type": "stream",
     "text": [
      "stdin> 5 8 4\n",
      "1\n",
      "1\n",
      "0\n",
      "0\n"
     ]
    }
   ],
   "source": [
    "nums = split(readline())\n",
    "A = parse(Int16, nums[1])\n",
    "B = parse(Int16, nums[2])\n",
    "C = parse(Int16, nums[3])\n",
    "\n",
    "println((A+B)%C)\n",
    "println((A%C + B%C)%C)\n",
    "println((A*B)%C)\n",
    "println((A%C * B%C)%C)"
   ]
  },
  {
   "cell_type": "markdown",
   "metadata": {},
   "source": [
    "## 2588번 곱셈\n",
    "- https://www.acmicpc.net/problem/2588\n",
    "- 빈 칸에 들어갈 수는?"
   ]
  },
  {
   "cell_type": "code",
   "execution_count": 18,
   "metadata": {},
   "outputs": [
    {
     "name": "stdout",
     "output_type": "stream",
     "text": [
      "stdin> 472\n",
      "stdin> 385\n",
      "2360\n",
      "3776\n",
      "1416\n",
      "181720\n"
     ]
    }
   ],
   "source": [
    "# B가 string값일 때 IntN(A, B) 형태의 conversion이 허용되지 않는다.\n",
    "# 위에 1000번 문제 A+B 참고.\n",
    "num1 = parse(Int16, readline())\n",
    "num2 = readline()\n",
    "\n",
    "num2_one = parse(Int8, split(num2, \"\")[3])    # split(N, '')하면 안된다.\n",
    "num2_ten = parse(Int8, split(num2, \"\")[2])\n",
    "num2_hun = parse(Int8, split(num2, \"\")[1])\n",
    "result3 = num1 * num2_one\n",
    "result4 = num1 * num2_ten\n",
    "result5 = num1 * num2_hun\n",
    "\n",
    "println(result3)\n",
    "println(result4)\n",
    "println(result5)\n",
    "println(result5 * 100 + result4 * 10 + result3)"
   ]
  }
 ],
 "metadata": {
  "kernelspec": {
   "display_name": "Julia 1.0.5",
   "language": "julia",
   "name": "julia-1.0"
  },
  "language_info": {
   "file_extension": ".jl",
   "mimetype": "application/julia",
   "name": "julia",
   "version": "1.0.5"
  }
 },
 "nbformat": 4,
 "nbformat_minor": 4
}
