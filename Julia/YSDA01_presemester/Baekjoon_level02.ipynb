{
 "cells": [
  {
   "cell_type": "markdown",
   "metadata": {},
   "source": [
    "# 백준 2단계 if문"
   ]
  },
  {
   "cell_type": "markdown",
   "metadata": {},
   "source": [
    "## 1330번 \n",
    "- https://www.acmicpc.net/problem/1330\n",
    "- 두 수를 비교한 결과를 출력하는 문제"
   ]
  },
  {
   "cell_type": "code",
   "execution_count": 1,
   "metadata": {},
   "outputs": [
    {
     "name": "stdout",
     "output_type": "stream",
     "text": [
      "Press any number to continue. stdin> 1\n",
      "Input A and B in the form of 'AA BBB' ex) 95 53stdin> 1 2\n",
      "<\n",
      "Press any number to continue. stdin> 2\n",
      "Input A and B in the form of 'AA BBB' ex) 95 53stdin> 5 9\n",
      "<\n",
      "Press any number to continue. stdin> 1\n",
      "Input A and B in the form of 'AA BBB' ex) 95 53stdin> 9 6\n",
      ">\n",
      "Press any number to continue. stdin> 1\n",
      "Input A and B in the form of 'AA BBB' ex) 95 53stdin> 3 3\n",
      "==\n",
      "Press any number to continue. stdin> q\n"
     ]
    }
   ],
   "source": [
    "print(\"Press any number to continue. \")\n",
    "request = readline()\n",
    "\n",
    "while occursin(r\"[0-9]+\", request)\n",
    "    print(\"Input A and B in the form of 'AA BBB' ex) 95 53 \")\n",
    "    nums = split(readline())\n",
    "    A = parse(Int8, nums[1])\n",
    "    B = parse(Int8, nums[2])\n",
    "\n",
    "    if A ≠ B\n",
    "        println(A < B ? \"<\" : \">\")\n",
    "    else\n",
    "        println(\"==\")\n",
    "    end # syntax: incomplete: \"if\" at none:9 requires end\n",
    "    \n",
    "    print(\"Press any number to continue. \")\n",
    "    request = readline()\n",
    "end # syntax: incomplete: \"while\" at none:4 requires end"
   ]
  },
  {
   "cell_type": "markdown",
   "metadata": {},
   "source": [
    "## 9498번 \n",
    "- https://www.acmicpc.net/problem/9498\n",
    "- 시험 점수를 성적으로 바꾸는 문제"
   ]
  },
  {
   "cell_type": "code",
   "execution_count": null,
   "metadata": {},
   "outputs": [],
   "source": []
  },
  {
   "cell_type": "markdown",
   "metadata": {},
   "source": [
    "## 2753번 \n",
    "- https://www.acmicpc.net/problem/2753\n",
    "- 윤년을 판별하는 문제"
   ]
  },
  {
   "cell_type": "code",
   "execution_count": null,
   "metadata": {},
   "outputs": [],
   "source": []
  },
  {
   "cell_type": "markdown",
   "metadata": {},
   "source": [
    "## 2884번 \n",
    "- https://www.acmicpc.net/problem/2884\n",
    "- 시간 뺄셈 문제"
   ]
  },
  {
   "cell_type": "code",
   "execution_count": null,
   "metadata": {},
   "outputs": [],
   "source": []
  },
  {
   "cell_type": "markdown",
   "metadata": {},
   "source": [
    "## 10817번 \n",
    "- https://www.acmicpc.net/problem/10817\n",
    "- 세 정수 중에 두 번째로 큰 정수를 찾는 문제"
   ]
  },
  {
   "cell_type": "code",
   "execution_count": null,
   "metadata": {},
   "outputs": [],
   "source": []
  },
  {
   "cell_type": "markdown",
   "metadata": {},
   "source": [
    "## 5543번 \n",
    "- https://www.acmicpc.net/problem/5543\n",
    "- 상근날드에서 가장 싼 세트를 찾는 문제"
   ]
  },
  {
   "cell_type": "code",
   "execution_count": null,
   "metadata": {},
   "outputs": [],
   "source": []
  }
 ],
 "metadata": {
  "kernelspec": {
   "display_name": "Julia 1.0.5",
   "language": "julia",
   "name": "julia-1.0"
  },
  "language_info": {
   "file_extension": ".jl",
   "mimetype": "application/julia",
   "name": "julia",
   "version": "1.0.5"
  }
 },
 "nbformat": 4,
 "nbformat_minor": 4
}
